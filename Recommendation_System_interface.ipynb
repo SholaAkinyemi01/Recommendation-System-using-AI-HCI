{
 "cells": [
  {
   "cell_type": "markdown",
   "id": "ddad6ead-3b05-465d-998b-513d5bc59c64",
   "metadata": {},
   "source": [
    "# Recommendation System interface"
   ]
  },
  {
   "cell_type": "code",
   "execution_count": 10,
   "id": "5317ce72-20b5-4c4c-81d8-619ff38ba9e5",
   "metadata": {},
   "outputs": [
    {
     "name": "stdout",
     "output_type": "stream",
     "text": [
      "Recommended movies for User 1:\n",
      "['Sanjuro (Tsubaki Sanjûrô) (1962)', 'U.S. Marshals (1998)', \"Amores Perros (Love's a Bitch) (2000)\", 'Princess Mononoke (Mononoke-hime) (1997)', 'Crash (1996)']\n"
     ]
    },
    {
     "data": {
      "application/vnd.jupyter.widget-view+json": {
       "model_id": "26fc0cf21be74f8fa7431fda4e2b6c57",
       "version_major": 2,
       "version_minor": 0
      },
      "text/plain": [
       "IntSlider(value=1, description='User ID', max=50, min=1)"
      ]
     },
     "metadata": {},
     "output_type": "display_data"
    },
    {
     "data": {
      "application/vnd.jupyter.widget-view+json": {
       "model_id": "f2ca0f26abce46f1ac030512dd483908",
       "version_major": 2,
       "version_minor": 0
      },
      "text/plain": [
       "Output()"
      ]
     },
     "metadata": {},
     "output_type": "display_data"
    }
   ],
   "source": [
    "import ipywidgets as widgets\n",
    "from IPython.display import display\n",
    "from Recommendation_System import recommend_movies\n",
    "\n",
    "user_input = widgets.IntSlider(value=1, min=1, max=50, description=\"User ID\")\n",
    "output = widgets.Output()\n",
    "\n",
    "def on_value_change(change):\n",
    "    output.clear_output()\n",
    "    with output:\n",
    "        print(f\"Recommendations for User {change['new']}:\")\n",
    "        print(recommend_movies(user_id=change['new']))\n",
    "\n",
    "user_input.observe(on_value_change, names='value')\n",
    "\n",
    "display(user_input, output)\n"
   ]
  }
 ],
 "metadata": {
  "kernelspec": {
   "display_name": "Python 3 (ipykernel)",
   "language": "python",
   "name": "python3"
  },
  "language_info": {
   "codemirror_mode": {
    "name": "ipython",
    "version": 3
   },
   "file_extension": ".py",
   "mimetype": "text/x-python",
   "name": "python",
   "nbconvert_exporter": "python",
   "pygments_lexer": "ipython3",
   "version": "3.11.7"
  }
 },
 "nbformat": 4,
 "nbformat_minor": 5
}
